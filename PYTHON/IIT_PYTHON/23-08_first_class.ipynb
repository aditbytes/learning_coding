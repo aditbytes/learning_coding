{
 "cells": [
  {
   "cell_type": "code",
   "execution_count": 5,
   "id": "41d34205-8b02-41bb-bd24-5a9007c3fc99",
   "metadata": {},
   "outputs": [
    {
     "name": "stdout",
     "output_type": "stream",
     "text": [
      "5\n"
     ]
    }
   ],
   "source": [
    "print (2+3)\n"
   ]
  },
  {
   "cell_type": "code",
   "execution_count": 6,
   "id": "415dadd4-0546-462f-bb82-a8861cc55010",
   "metadata": {},
   "outputs": [
    {
     "name": "stdout",
     "output_type": "stream",
     "text": [
      "bo cda \n",
      "105\n"
     ]
    },
    {
     "data": {
      "text/plain": [
       "str"
      ]
     },
     "execution_count": 6,
     "metadata": {},
     "output_type": "execute_result"
    }
   ],
   "source": [
    "x = \"bo cda \"\n",
    "y = 105\n",
    "print (x)\n",
    "print (y)\n",
    "type(x)"
   ]
  },
  {
   "cell_type": "code",
   "execution_count": 7,
   "id": "deaac738-4458-4164-ab11-c665bfb5c6d7",
   "metadata": {},
   "outputs": [
    {
     "name": "stdout",
     "output_type": "stream",
     "text": [
      "<class 'str'>\n"
     ]
    }
   ],
   "source": [
    "print(type(x))"
   ]
  },
  {
   "cell_type": "code",
   "execution_count": 11,
   "id": "cb3ea070",
   "metadata": {},
   "outputs": [
    {
     "name": "stdout",
     "output_type": "stream",
     "text": [
      "numpy version: 2.3.2\n",
      "pandas version: 2.3.2\n"
     ]
    }
   ],
   "source": [
    "import numpy \n",
    "import pandas\n",
    "\n",
    "print (f\"numpy version: {numpy.__version__}\")\n",
    "print (f\"pandas version: {pandas.__version__}\")"
   ]
  },
  {
   "cell_type": "code",
   "execution_count": 12,
   "id": "13a4079e",
   "metadata": {},
   "outputs": [
    {
     "name": "stdout",
     "output_type": "stream",
     "text": [
      "6\n",
      "8\n",
      "0.5\n",
      "0\n",
      "16\n",
      "-2\n",
      "2\n",
      "False\n",
      "True\n",
      "False\n",
      "True\n",
      "False\n",
      "True\n",
      "False\n",
      "True\n",
      "False\n",
      "True\n",
      "4\n"
     ]
    }
   ],
   "source": [
    "x = 2\n",
    "y = 4\n",
    "print (x+y)\n",
    "print (x*y)\n",
    "print (x/y)\n",
    "print (x//y)\n",
    "print (x**y)\n",
    "print (x-y)\n",
    "print (x%y)\n",
    "print (x>y)\n",
    "print (x<y)\n",
    "print (x==y)\n",
    "print (x!=y)\n",
    "print (x>=y)\n",
    "print (x<=y)\n",
    "print (x is y)\n",
    "print (x is not y)\n",
    "print (x in [10,20,30])\n",
    "print (x not in [10,20,30])\n",
    "print (x and y)\n"
   ]
  },
  {
   "cell_type": "code",
   "execution_count": 17,
   "id": "075c19a0",
   "metadata": {},
   "outputs": [
    {
     "name": "stdout",
     "output_type": "stream",
     "text": [
      "*  \n",
      "* *  \n",
      "* * *  \n",
      "* * * *  \n"
     ]
    }
   ],
   "source": [
    "n = (int(input(\"enter a number:\")))\n",
    "for currRow in range (n):\n",
    "    for currNum in range (n):\n",
    "        if currNum <= currRow:\n",
    "            print (\"*\", end=\" \")\n",
    "    print (\" \")"
   ]
  },
  {
   "cell_type": "code",
   "execution_count": 25,
   "id": "1af37df8",
   "metadata": {},
   "outputs": [
    {
     "name": "stdout",
     "output_type": "stream",
     "text": [
      "1\n",
      "3\n",
      "3\n"
     ]
    }
   ],
   "source": [
    "import statistics\n",
    "\n",
    "print (statistics.mode([1,2,3,4,5]))\n",
    "print (statistics.mean([1,2,3,4,5]))\n",
    "print (statistics.median([1,2,3,4,5]))"
   ]
  },
  {
   "cell_type": "code",
   "execution_count": null,
   "id": "55bb7816",
   "metadata": {},
   "outputs": [],
   "source": []
  }
 ],
 "metadata": {
  "kernelspec": {
   "display_name": "venv",
   "language": "python",
   "name": "python3"
  },
  "language_info": {
   "codemirror_mode": {
    "name": "ipython",
    "version": 3
   },
   "file_extension": ".py",
   "mimetype": "text/x-python",
   "name": "python",
   "nbconvert_exporter": "python",
   "pygments_lexer": "ipython3",
   "version": "3.13.3"
  }
 },
 "nbformat": 4,
 "nbformat_minor": 5
}
