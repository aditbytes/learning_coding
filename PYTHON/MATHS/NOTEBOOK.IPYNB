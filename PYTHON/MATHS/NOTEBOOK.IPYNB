{
 "cells": [
  {
   "cell_type": "markdown",
   "id": "be956707",
   "metadata": {},
   "source": [
    "# PYTHON "
   ]
  },
  {
   "cell_type": "markdown",
   "id": "2f868a8f",
   "metadata": {},
   "source": [
    "## PROBABILTY "
   ]
  },
  {
   "cell_type": "code",
   "execution_count": 1,
   "id": "04cb492c",
   "metadata": {},
   "outputs": [],
   "source": [
    "from scipy.stats import binom"
   ]
  },
  {
   "cell_type": "code",
   "execution_count": 2,
   "id": "00870589",
   "metadata": {},
   "outputs": [],
   "source": [
    "n = 10\n",
    "p = 0.9"
   ]
  },
  {
   "cell_type": "code",
   "execution_count": 3,
   "id": "ed5f001e",
   "metadata": {},
   "outputs": [
    {
     "name": "stdout",
     "output_type": "stream",
     "text": [
      "0-9.999999999999977e-11\n",
      "1-8.999999999999976e-09\n",
      "2-3.6449999999999933e-07\n",
      "3-8.747999999999988e-06\n",
      "4-0.00013778099999999974\n",
      "5-0.0014880347999999982\n",
      "6-0.011160260999999989\n",
      "7-0.05739562799999997\n",
      "8-0.1937102444999998\n",
      "9-0.38742048899999976\n",
      "10-0.34867844010000015\n"
     ]
    }
   ],
   "source": [
    "for k in range(n + 1):\n",
    "    probability = binom.pmf(k ,n , p)\n",
    "    print(\"{0}-{1}\" .format(k, probability) )"
   ]
  },
  {
   "cell_type": "code",
   "execution_count": 6,
   "id": "e5bb9bf5",
   "metadata": {},
   "outputs": [
    {
     "name": "stdout",
     "output_type": "stream",
     "text": [
      "0.7748409780000002\n"
     ]
    }
   ],
   "source": [
    "from scipy.stats import beta\n",
    "\n",
    "a = 8\n",
    "b = 2 \n",
    "p = beta.cdf(.90, a , b)\n",
    "print(p)"
   ]
  },
  {
   "cell_type": "code",
   "execution_count": 7,
   "id": "8a0e0d1d",
   "metadata": {},
   "outputs": [],
   "source": [
    "import matplotlib as mpl"
   ]
  },
  {
   "cell_type": "code",
   "execution_count": null,
   "id": "109079d0",
   "metadata": {},
   "outputs": [],
   "source": []
  }
 ],
 "metadata": {
  "kernelspec": {
   "display_name": "venv",
   "language": "python",
   "name": "python3"
  },
  "language_info": {
   "codemirror_mode": {
    "name": "ipython",
    "version": 3
   },
   "file_extension": ".py",
   "mimetype": "text/x-python",
   "name": "python",
   "nbconvert_exporter": "python",
   "pygments_lexer": "ipython3",
   "version": "3.13.7"
  }
 },
 "nbformat": 4,
 "nbformat_minor": 5
}
