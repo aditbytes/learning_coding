{
 "cells": [
  {
   "cell_type": "code",
   "execution_count": 1,
   "id": "fd2d68b5",
   "metadata": {},
   "outputs": [],
   "source": [
    "a = 5 "
   ]
  },
  {
   "cell_type": "code",
   "execution_count": 2,
   "id": "d6643ce2-e90f-4c69-8090-4c79a301f34e",
   "metadata": {},
   "outputs": [
    {
     "name": "stdout",
     "output_type": "stream",
     "text": [
      "5\n"
     ]
    }
   ],
   "source": [
    "print(a)"
   ]
  },
  {
   "cell_type": "code",
   "execution_count": 1,
   "id": "d890a27c-3e93-4b5e-ac6a-07c9e24451aa",
   "metadata": {},
   "outputs": [],
   "source": [
    "var1 = 1 \n",
    "var2 = 5.0\n",
    "var3 = True \n",
    "var4 = \"machine learning \"\n"
   ]
  },
  {
   "cell_type": "code",
   "execution_count": 2,
   "id": "fc8f8bdf-1369-482d-bf65-54a5a133f969",
   "metadata": {},
   "outputs": [
    {
     "data": {
      "text/plain": [
       "int"
      ]
     },
     "execution_count": 2,
     "metadata": {},
     "output_type": "execute_result"
    }
   ],
   "source": [
    "type(var1)"
   ]
  },
  {
   "cell_type": "code",
   "execution_count": 4,
   "id": "8fc98094",
   "metadata": {},
   "outputs": [
    {
     "name": "stdout",
     "output_type": "stream",
     "text": [
      "bigger than 1\n"
     ]
    }
   ],
   "source": [
    "if var1 >= 1:\n",
    "    print(\"bigger than 1\")"
   ]
  },
  {
   "cell_type": "code",
   "execution_count": 5,
   "id": "fe2527c8",
   "metadata": {},
   "outputs": [
    {
     "name": "stdout",
     "output_type": "stream",
     "text": [
      "x < y \n"
     ]
    }
   ],
   "source": [
    "x = 10\n",
    "y = 20 \n",
    "if x>y :\n",
    "    print (\"x>y\")\n",
    "elif x < y :\n",
    "    print (\"x < y \")\n",
    "else:\n",
    "    print(\"x=y\")"
   ]
  },
  {
   "cell_type": "code",
   "execution_count": 9,
   "id": "f73a7f64",
   "metadata": {},
   "outputs": [
    {
     "name": "stdout",
     "output_type": "stream",
     "text": [
      "0\n",
      "1\n",
      "2\n",
      "3\n",
      "4\n",
      "5\n"
     ]
    }
   ],
   "source": [
    "n = 6\n",
    "\n",
    "for i in range(n):\n",
    "    print(i)"
   ]
  },
  {
   "cell_type": "code",
   "execution_count": null,
   "id": "9357d959",
   "metadata": {},
   "outputs": [],
   "source": []
  }
 ],
 "metadata": {
  "kernelspec": {
   "display_name": "venv",
   "language": "python",
   "name": "python3"
  },
  "language_info": {
   "codemirror_mode": {
    "name": "ipython",
    "version": 3
   },
   "file_extension": ".py",
   "mimetype": "text/x-python",
   "name": "python",
   "nbconvert_exporter": "python",
   "pygments_lexer": "ipython3",
   "version": "3.13.3"
  }
 },
 "nbformat": 4,
 "nbformat_minor": 5
}
