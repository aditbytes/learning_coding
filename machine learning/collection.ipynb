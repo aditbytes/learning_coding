{
 "cells": [
  {
   "cell_type": "markdown",
   "id": "5989e18d",
   "metadata": {},
   "source": [
    "working in collections "
   ]
  },
  {
   "cell_type": "code",
   "execution_count": 1,
   "id": "5160a881",
   "metadata": {},
   "outputs": [],
   "source": [
    "emptyList = []"
   ]
  },
  {
   "cell_type": "code",
   "execution_count": 2,
   "id": "fc5c26f9",
   "metadata": {},
   "outputs": [],
   "source": [
    "batsmen = ['rohit', 'dhawan', 'kohli', 'rahane', 'rayadu', 'Dhoni']"
   ]
  },
  {
   "cell_type": "code",
   "execution_count": 3,
   "id": "b399bedf",
   "metadata": {},
   "outputs": [
    {
     "data": {
      "text/plain": [
       "'rohit'"
      ]
     },
     "execution_count": 3,
     "metadata": {},
     "output_type": "execute_result"
    }
   ],
   "source": [
    "batsmen[0]"
   ]
  },
  {
   "cell_type": "code",
   "execution_count": 4,
   "id": "cf9598ae",
   "metadata": {},
   "outputs": [
    {
     "data": {
      "text/plain": [
       "'Dhoni'"
      ]
     },
     "execution_count": 4,
     "metadata": {},
     "output_type": "execute_result"
    }
   ],
   "source": [
    "batsmen[-1]"
   ]
  },
  {
   "cell_type": "code",
   "execution_count": 6,
   "id": "f4a8b42b",
   "metadata": {},
   "outputs": [
    {
     "data": {
      "text/plain": [
       "['rohit', 'dhawan']"
      ]
     },
     "execution_count": 6,
     "metadata": {},
     "output_type": "execute_result"
    }
   ],
   "source": [
    "## slicing \n",
    "batsmen[0:2]"
   ]
  },
  {
   "cell_type": "code",
   "execution_count": 7,
   "id": "a4ef5b54",
   "metadata": {},
   "outputs": [
    {
     "data": {
      "text/plain": [
       "6"
      ]
     },
     "execution_count": 7,
     "metadata": {},
     "output_type": "execute_result"
    }
   ],
   "source": [
    "len(batsmen)"
   ]
  },
  {
   "cell_type": "code",
   "execution_count": 8,
   "id": "34faf7a6",
   "metadata": {},
   "outputs": [],
   "source": [
    "bowlers = ['bumrah', 'shami', 'bhumi', 'kuldeep', 'chahal']"
   ]
  },
  {
   "cell_type": "code",
   "execution_count": 9,
   "id": "678a9992",
   "metadata": {},
   "outputs": [],
   "source": [
    "all_players = batsmen + bowlers"
   ]
  },
  {
   "cell_type": "code",
   "execution_count": 10,
   "id": "b011be8e",
   "metadata": {},
   "outputs": [
    {
     "data": {
      "text/plain": [
       "['rohit',\n",
       " 'dhawan',\n",
       " 'kohli',\n",
       " 'rahane',\n",
       " 'rayadu',\n",
       " 'Dhoni',\n",
       " 'bumrah',\n",
       " 'shami',\n",
       " 'bhumi',\n",
       " 'kuldeep',\n",
       " 'chahal']"
      ]
     },
     "execution_count": 10,
     "metadata": {},
     "output_type": "execute_result"
    }
   ],
   "source": [
    "all_players"
   ]
  },
  {
   "cell_type": "code",
   "execution_count": 11,
   "id": "94ae34f5",
   "metadata": {},
   "outputs": [
    {
     "data": {
      "text/plain": [
       "True"
      ]
     },
     "execution_count": 11,
     "metadata": {},
     "output_type": "execute_result"
    }
   ],
   "source": [
    "'bumrah' in bowlers"
   ]
  },
  {
   "cell_type": "code",
   "execution_count": 12,
   "id": "42ae7fba",
   "metadata": {},
   "outputs": [
    {
     "data": {
      "text/plain": [
       "5"
      ]
     },
     "execution_count": 12,
     "metadata": {},
     "output_type": "execute_result"
    }
   ],
   "source": [
    "all_players.index('Dhoni')"
   ]
  },
  {
   "cell_type": "code",
   "execution_count": 13,
   "id": "628cf028",
   "metadata": {},
   "outputs": [
    {
     "data": {
      "text/plain": [
       "['chahal',\n",
       " 'kuldeep',\n",
       " 'bhumi',\n",
       " 'shami',\n",
       " 'bumrah',\n",
       " 'Dhoni',\n",
       " 'rayadu',\n",
       " 'rahane',\n",
       " 'kohli',\n",
       " 'dhawan',\n",
       " 'rohit']"
      ]
     },
     "execution_count": 13,
     "metadata": {},
     "output_type": "execute_result"
    }
   ],
   "source": [
    "all_players.reverse()\n",
    "all_players"
   ]
  },
  {
   "cell_type": "code",
   "execution_count": 14,
   "id": "b5230f54",
   "metadata": {},
   "outputs": [],
   "source": [
    "odiDebut = ('kohli', 2008)"
   ]
  },
  {
   "cell_type": "code",
   "execution_count": 15,
   "id": "8b0761d7",
   "metadata": {},
   "outputs": [
    {
     "data": {
      "text/plain": [
       "('kohli', 2008)"
      ]
     },
     "execution_count": 15,
     "metadata": {},
     "output_type": "execute_result"
    }
   ],
   "source": [
    "odiDebut\n"
   ]
  },
  {
   "cell_type": "code",
   "execution_count": 16,
   "id": "6ccfbb29",
   "metadata": {},
   "outputs": [],
   "source": [
    "players = tuple(all_players)"
   ]
  },
  {
   "cell_type": "code",
   "execution_count": 17,
   "id": "e70846f6",
   "metadata": {},
   "outputs": [
    {
     "data": {
      "text/plain": [
       "('chahal',\n",
       " 'kuldeep',\n",
       " 'bhumi',\n",
       " 'shami',\n",
       " 'bumrah',\n",
       " 'Dhoni',\n",
       " 'rayadu',\n",
       " 'rahane',\n",
       " 'kohli',\n",
       " 'dhawan',\n",
       " 'rohit')"
      ]
     },
     "execution_count": 17,
     "metadata": {},
     "output_type": "execute_result"
    }
   ],
   "source": [
    "players"
   ]
  },
  {
   "cell_type": "code",
   "execution_count": 18,
   "id": "1f2222cf",
   "metadata": {},
   "outputs": [],
   "source": [
    "setOfNumbers = {6,1,1,2,4,5}\n"
   ]
  },
  {
   "cell_type": "code",
   "execution_count": 19,
   "id": "27f23838",
   "metadata": {},
   "outputs": [
    {
     "data": {
      "text/plain": [
       "{1, 2, 4, 5, 6}"
      ]
     },
     "execution_count": 19,
     "metadata": {},
     "output_type": "execute_result"
    }
   ],
   "source": [
    "setOfNumbers"
   ]
  },
  {
   "cell_type": "code",
   "execution_count": null,
   "id": "25b88110",
   "metadata": {},
   "outputs": [],
   "source": []
  }
 ],
 "metadata": {
  "kernelspec": {
   "display_name": "venv",
   "language": "python",
   "name": "python3"
  },
  "language_info": {
   "codemirror_mode": {
    "name": "ipython",
    "version": 3
   },
   "file_extension": ".py",
   "mimetype": "text/x-python",
   "name": "python",
   "nbconvert_exporter": "python",
   "pygments_lexer": "ipython3",
   "version": "3.13.3"
  }
 },
 "nbformat": 4,
 "nbformat_minor": 5
}
